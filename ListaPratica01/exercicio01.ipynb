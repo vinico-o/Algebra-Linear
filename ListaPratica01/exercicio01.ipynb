{
 "cells": [
  {
   "cell_type": "code",
   "execution_count": 14,
   "id": "17219f46",
   "metadata": {},
   "outputs": [],
   "source": [
    "import numpy as np"
   ]
  },
  {
   "cell_type": "markdown",
   "id": "b9c8ab18",
   "metadata": {},
   "source": [
    "# Exercicio 1:\n",
    "\n",
    "A terra pode ser aproximada por uma esfera de raio R = 6367.5 km. Uma localiza ̧c ̃ao na su-\n",
    "perf ́ıcie da Terra  ́e tradicionalmente dada por sua latitude φ e sua longitude θ, que correspondem,\n",
    "respectivamente, `a distˆancia angular do equador e do meridiano principal. As coordenadas em 3\n",
    "dimens ̃oes s ̃ao dadas pelo vetor (x, y, z), onde:\n",
    "\n",
    "<p align=\"center\">\n",
    "    x = R cos(θ) sin(φ)\n",
    "    <br>\n",
    "    y = R cos(θ) cos(φ)\n",
    "    <br>\n",
    "    z = R sin(θ)\n",
    "</p>"
   ]
  },
  {
   "cell_type": "markdown",
   "id": "67c94f36",
   "metadata": {},
   "source": [
    "(a) Fa ̧ca uma fun ̧c ̃ao que receba as coordenadas e retorne o vetor posi ̧c ̃ao correspondente. Teste\n",
    "nas seguintes cidades:"
   ]
  },
  {
   "cell_type": "code",
   "execution_count": null,
   "id": "11990c86",
   "metadata": {},
   "outputs": [
    {
     "name": "stdout",
     "output_type": "stream",
     "text": [
      "[-1746.99998356  4008.16031311 -4629.00617971]\n"
     ]
    }
   ],
   "source": [
    "def calcular_posicao(latitude, longitude):\n",
    "    latitude = np.radians(latitude)\n",
    "    longitude = np.radians(longitude)\n",
    "    x = 6367.5 * np.cos(longitude) * np.sin(latitude)\n",
    "    y = 6367.5 * np.cos(longitude) * np.cos(latitude)\n",
    "    z = 6367.5 * np.sin(longitude)\n",
    "    \n",
    "\n",
    "    return np.array((x, y, z))\n",
    "\n",
    "sao_paulo = calcular_posicao(-23.5505, -46.6333)\n",
    "print(sao_paulo)"
   ]
  },
  {
   "cell_type": "markdown",
   "id": "41d5e2d3",
   "metadata": {},
   "source": [
    "(b) Calcule as distˆancias euclidianas em 3D entre S ̃ao Paulo e as outras cidades utilizando o\n",
    "vetor posi ̧c ̃ao.\n",
    "\n",
    "<p>\n",
    "    Cidade Latitude (φ) Longitude (θ)\n",
    "    <br>\n",
    "    S ̃ao Paulo −23.5505◦ −46.6333◦\n",
    "    <br>\n",
    "    Nova York 40.7128◦ −74.0060◦\n",
    "    <br>\n",
    "    T ́oquio 35.6895◦ 139.6917◦\n",
    "    <br>\n",
    "    Sydney −33.8688◦ 151.2093◦\n",
    "    <br>\n",
    "    Londres 51.5074◦ −0.1278◦\n",
    "    <br>\n",
    "</p>"
   ]
  },
  {
   "cell_type": "code",
   "execution_count": null,
   "id": "5a56352e",
   "metadata": {},
   "outputs": [
    {
     "name": "stdout",
     "output_type": "stream",
     "text": [
      "Distancias Eucilidianas: \n",
      "4214.19574758001\n",
      "11871.89001276992\n",
      "12549.532357343243\n",
      "8160.975366767336\n"
     ]
    }
   ],
   "source": [
    "sao_paulo = calcular_posicao(-23.5505, -46.6333)\n",
    "informacoes = np.array([\n",
    "    [40.7128, -74.0060],\n",
    "    [35.6895, 139.6917],\n",
    "    [-33.8688, 151.2093],\n",
    "    [51.5074, -0.1278]\n",
    "])\n",
    "\n",
    "print(\"Distancias Eucilidianas: \")\n",
    "for i in range(informacoes.shape[0]):\n",
    "    coordenadas = calcular_posicao(informacoes[i][0], informacoes[i][1])\n",
    "    distancia_euclidiana = np.linalg.norm(sao_paulo - coordenadas, axis = 0)\n",
    "    print(distancia_euclidiana)"
   ]
  },
  {
   "cell_type": "markdown",
   "id": "f73d7991",
   "metadata": {},
   "source": [
    "(c) Fa ̧ca uma fun ̧c ̃ao que calcule a distˆancia na superf ́ıcie da Terra entre dois pontos dadas\n",
    "suas coordenadas. Utilize a f ́ormula d(a, b) = R∠(a, b) e teste no mesmo caso do exerc ́ıcio\n",
    "anterior."
   ]
  },
  {
   "cell_type": "code",
   "execution_count": 21,
   "id": "b92d6c2c",
   "metadata": {},
   "outputs": [
    {
     "name": "stdout",
     "output_type": "stream",
     "text": [
      "[[ 4295.16496739]\n",
      " [15288.55104938]\n",
      " [17828.00030447]\n",
      " [ 8858.20490585]]\n"
     ]
    }
   ],
   "source": [
    "distancia_superficie = np.zeros((4, 1))\n",
    "for i in range(informacoes.shape[0]):\n",
    "    coordenadas = calcular_posicao(informacoes[i][0], informacoes[i][1])\n",
    "    angulo = np.arccos(np.dot(sao_paulo.transpose(), coordenadas) /  (np.linalg.norm(sao_paulo) * np.linalg.norm(coordenadas)))\n",
    "    distancia_superficie[i] = 6367.5 * angulo\n",
    "    \n",
    "print(distancia_superficie)"
   ]
  }
 ],
 "metadata": {
  "kernelspec": {
   "display_name": "Python 3",
   "language": "python",
   "name": "python3"
  },
  "language_info": {
   "codemirror_mode": {
    "name": "ipython",
    "version": 3
   },
   "file_extension": ".py",
   "mimetype": "text/x-python",
   "name": "python",
   "nbconvert_exporter": "python",
   "pygments_lexer": "ipython3",
   "version": "3.13.1"
  }
 },
 "nbformat": 4,
 "nbformat_minor": 5
}
