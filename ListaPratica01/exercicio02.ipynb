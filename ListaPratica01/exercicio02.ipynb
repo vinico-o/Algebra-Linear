{
 "cells": [
  {
   "cell_type": "code",
   "execution_count": 2,
   "id": "12606712",
   "metadata": {},
   "outputs": [],
   "source": [
    "import numpy as np"
   ]
  },
  {
   "cell_type": "markdown",
   "id": "1e0fdfb3",
   "metadata": {},
   "source": [
    "# Exercicio 02:\n",
    "Considere os dados da tabela:\n",
    "| País         | PIB (trilhões USD) | População (milhões) | Inflação (%) | Desemprego (%) |\n",
    "|--------------|---------------------|----------------------|--------------|----------------|\n",
    "| Brasil       | 2.1                 | 213                  | 3.2          | 11.2           |\n",
    "| EUA          | 21.4                | 331                  | 2.1          | 3.7            |\n",
    "| China        | 14.3                | 1439                 | 2.9          | 3.8            |\n",
    "| Alemanha     | 3.8                 | 83                   | 1.4          | 3.2            |\n",
    "| Japão        | 4.9                 | 126                  | 0.5          | 2.8            |\n",
    "| França       | 2.6                 | 67                   | 1.8          | 8.1            |\n",
    "| Reino Unido  | 2.8                 | 67                   | 2.5          | 4.1            |\n",
    "| Canadá       | 1.7                 | 38                   | 1.9          | 5.7            |\n",
    "\n",
    "(a) Compare a semelhan ̧ca entre o Brasil e outros pa ́ıses utilizando a distˆancia euclidiana entre\n",
    "os vetores de caracter ́ısticas (PIB, Popula ̧c ̃ao, Infla ̧c ̃ao, Desemprego).\n"
   ]
  },
  {
   "cell_type": "code",
   "execution_count": 16,
   "id": "e990e98b",
   "metadata": {},
   "outputs": [
    {
     "name": "stdout",
     "output_type": "stream",
     "text": [
      "Brasil - EUA: 119.80797135416324\n",
      "Brasil - China: 1226.083068148321\n",
      "Brasil - Alemanha: 130.26945152260373\n",
      "Brasil - Japão: 87.49108526015665\n",
      "Brasil - França: 146.04047384201408\n",
      "Brasil - Reino Unido: 146.17588720442234\n",
      "Brasil - Canadá: 175.09169026541494\n"
     ]
    }
   ],
   "source": [
    "nomes = [\"Brasil\", \"EUA\", \"China\", \"Alemanha\", \"Japão\", \"França\", \"Reino Unido\", \"Canadá\"]\n",
    "paises = np.array([\n",
    "    [2.1, 213, 3.2, 11.2],   # Brasil\n",
    "    [21.4, 331, 2.1, 3.7],   # EUA\n",
    "    [14.3, 1439, 2.9, 3.8],  # China\n",
    "    [3.8, 83, 1.4, 3.2],     # Alemanha\n",
    "    [4.9, 126, 0.5, 2.8],    # Japão\n",
    "    [2.6, 67, 1.8, 8.1],     # França\n",
    "    [2.8, 67, 2.5, 4.1],     # Reino Unido\n",
    "    [1.7, 38, 1.9, 5.7]      # Canadá\n",
    "])\n",
    "\n",
    "for i in range(1, paises.shape[0]):\n",
    "    distancia = np.linalg.norm(paises[0] - paises[i])\n",
    "    print(f\"Brasil - {nomes[i]}: {distancia}\")\n",
    "    "
   ]
  },
  {
   "cell_type": "markdown",
   "id": "2733fdee",
   "metadata": {},
   "source": [
    "(b) Fa ̧ca a padroniza ̧c ̃ao dos dados utilizando a t ́ecnica de z-score em cada uma das carac-\n",
    "ter ́ısticas. Ap ́os a padroniza ̧c ̃ao, compare novamente a semelhan ̧ca entre os pa ́ıses. Explique\n",
    "a diferen ̧ca nos resultados comparados com o item anterior."
   ]
  },
  {
   "cell_type": "code",
   "execution_count": 21,
   "id": "be58e906",
   "metadata": {},
   "outputs": [
    {
     "name": "stdout",
     "output_type": "stream",
     "text": [
      "[[-0.68224933 -0.18680919  1.44765713  2.15035987]\n",
      " [ 2.18023155  0.08038456  0.07783103 -0.59478039]\n",
      " [ 1.12719454  2.58928853  1.07406819 -0.55817852]\n",
      " [-0.43011371 -0.48117518 -0.79387649 -0.77778974]\n",
      " [-0.26696713 -0.38380796 -1.9146433  -0.92419722]\n",
      " [-0.60809179 -0.51740484 -0.29575791  1.01570189]\n",
      " [-0.57842878 -0.51740484  0.57594961 -0.44837291]\n",
      " [-0.74157536 -0.5830711  -0.17122826  0.13725701]]\n"
     ]
    }
   ],
   "source": [
    "zscore = np.zeros_like(paises)\n",
    "\n",
    "zscore = (paises - np.mean(paises, axis=0)) / np.std(paises, axis=0)\n",
    "\n",
    "print(zscore)"
   ]
  },
  {
   "cell_type": "markdown",
   "id": "a9e8d6e9",
   "metadata": {},
   "source": [
    "(c) Compute a matriz de correla ̧c ̃ao entre os pa ́ıses."
   ]
  },
  {
   "cell_type": "code",
   "execution_count": 38,
   "id": "41766a91",
   "metadata": {},
   "outputs": [
    {
     "name": "stdout",
     "output_type": "stream",
     "text": [
      "Matriz de Correlacao Normal\n",
      "[[ 1.     -0.9434 -0.9963  0.9957  0.995   0.9974  0.9963  0.9968]\n",
      " [-0.9434  1.      0.9257 -0.9278 -0.9263 -0.9302 -0.9292 -0.9304]\n",
      " [-0.9963  0.9257  1.     -0.9999 -0.9998 -0.9999 -0.9999 -0.9999]\n",
      " [ 0.9957 -0.9278 -0.9999  1.      1.      0.9997  1.      0.9999]\n",
      " [ 0.995  -0.9263 -0.9998  1.      1.      0.9996  0.9999  0.9998]\n",
      " [ 0.9974 -0.9302 -0.9999  0.9997  0.9996  1.      0.9998  0.9999]\n",
      " [ 0.9963 -0.9292 -0.9999  1.      0.9999  0.9998  1.      1.    ]\n",
      " [ 0.9968 -0.9304 -0.9999  0.9999  0.9998  0.9999  1.      1.    ]]\n",
      "\n",
      "Matriz de Correlacao Zscore\n",
      "[[ 1.     -0.439  -0.1088 -0.7061 -0.7702  0.6367  0.1261  0.2544]\n",
      " [-0.439   1.      0.4432 -0.1979 -0.0431 -0.6651 -0.4112 -0.8025]\n",
      " [-0.1088  0.4432  1.     -0.5443 -0.4239 -0.7145 -0.343  -0.8758]\n",
      " [-0.7061 -0.1979 -0.5443  1.      0.9073 -0.0262  0.2843  0.5051]\n",
      " [-0.7702 -0.0431 -0.4239  0.9073  1.     -0.004  -0.1446  0.2954]\n",
      " [ 0.6367 -0.6651 -0.7145 -0.0262 -0.004   1.     -0.0045  0.7344]\n",
      " [ 0.1261 -0.4112 -0.343   0.2843 -0.1446 -0.0045  1.      0.5529]\n",
      " [ 0.2544 -0.8025 -0.8758  0.5051  0.2954  0.7344  0.5529  1.    ]]\n"
     ]
    }
   ],
   "source": [
    "correlacao = np.zeros((paises.shape[0], paises.shape[0]))\n",
    "paises_media = np.mean(paises, axis = 0)\n",
    "paises_centrado = paises - paises_media\n",
    "\n",
    "for i in range(paises.shape[0]):\n",
    "    vi = paises_centrado[i, :]\n",
    "    for j in range(paises.shape[0]):\n",
    "        vj = paises_centrado[j, :]\n",
    "        correlacao[i, j] = np.dot(vi, vj) / (np.linalg.norm(vi) * np.linalg.norm(vj))\n",
    "\n",
    "print(\"Matriz de Correlacao Normal\")\n",
    "print(np.round(correlacao, 4))\n",
    "\n",
    "#fazendo utilizando o zscore\n",
    "for i in range(paises.shape[0]):\n",
    "    vi = zscore[i, :]\n",
    "    for j in range(paises.shape[0]):\n",
    "        vj = zscore[j, :]\n",
    "        correlacao[i, j] = np.dot(vi, vj) / (np.linalg.norm(vi) * np.linalg.norm(vj))\n",
    "\n",
    "print(\"\\nMatriz de Correlacao Zscore\")\n",
    "print(np.round(correlacao, 4))"
   ]
  }
 ],
 "metadata": {
  "kernelspec": {
   "display_name": "Python 3",
   "language": "python",
   "name": "python3"
  },
  "language_info": {
   "codemirror_mode": {
    "name": "ipython",
    "version": 3
   },
   "file_extension": ".py",
   "mimetype": "text/x-python",
   "name": "python",
   "nbconvert_exporter": "python",
   "pygments_lexer": "ipython3",
   "version": "3.13.1"
  }
 },
 "nbformat": 4,
 "nbformat_minor": 5
}
