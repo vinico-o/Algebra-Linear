{
 "cells": [
  {
   "cell_type": "code",
   "execution_count": 130,
   "id": "6d85f332",
   "metadata": {},
   "outputs": [],
   "source": [
    "import numpy as np"
   ]
  },
  {
   "cell_type": "markdown",
   "id": "7fcb1afe",
   "metadata": {},
   "source": [
    "# Teste para Verificar Função Linear\n",
    "Para a função ser Linear ela deve satisfazer:\n",
    "<br>\n",
    "$f(a * x) = a * f(x)$\n",
    "<br>\n",
    "$f(a * x + b * y) = a * f(x) + b * f(y)$"
   ]
  },
  {
   "cell_type": "code",
   "execution_count": 135,
   "id": "0b6602cd",
   "metadata": {},
   "outputs": [],
   "source": [
    "def test_linear(f, x, y, a, b):\n",
    "    valor1 = f(a * x + b * y)\n",
    "    valor2 = a * f(x) + b * f(y)\n",
    "    return valor1 == valor2"
   ]
  },
  {
   "cell_type": "code",
   "execution_count": 136,
   "id": "ad6ec950",
   "metadata": {},
   "outputs": [],
   "source": [
    "def test_linear_mult(f, shape_input, num_tests):\n",
    "    for i in range(num_tests):\n",
    "        x = np.random.rand(shape_input)\n",
    "        y = np.random.rand(shape_input)\n",
    "        a = np.random.rand(1)\n",
    "        b = np.random.rand(1)\n",
    "\n",
    "        if test_linear(f, x, y, a, b) == False:\n",
    "            return False\n",
    "    return True\n"
   ]
  },
  {
   "cell_type": "code",
   "execution_count": 137,
   "id": "4acedf3c",
   "metadata": {},
   "outputs": [],
   "source": [
    "def max_min(vetor):\n",
    "    return np.max(vetor) - np.min(vetor)"
   ]
  },
  {
   "cell_type": "code",
   "execution_count": 138,
   "id": "f3dc2d34",
   "metadata": {},
   "outputs": [
    {
     "name": "stdout",
     "output_type": "stream",
     "text": [
      "f É linear? False\n",
      "g É linear? False\n"
     ]
    }
   ],
   "source": [
    "#teste na função média\n",
    "f = np.mean\n",
    "g = max_min\n",
    "\n",
    "print(f\"f É linear? {test_linear_mult(f, 5, 100)}\")\n",
    "print(f\"g É linear? {test_linear_mult(g, 5, 100)}\")"
   ]
  }
 ],
 "metadata": {
  "kernelspec": {
   "display_name": "Python 3",
   "language": "python",
   "name": "python3"
  },
  "language_info": {
   "codemirror_mode": {
    "name": "ipython",
    "version": 3
   },
   "file_extension": ".py",
   "mimetype": "text/x-python",
   "name": "python",
   "nbconvert_exporter": "python",
   "pygments_lexer": "ipython3",
   "version": "3.13.1"
  }
 },
 "nbformat": 4,
 "nbformat_minor": 5
}
